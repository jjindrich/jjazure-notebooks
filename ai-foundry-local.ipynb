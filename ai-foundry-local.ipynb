{
 "cells": [
  {
   "cell_type": "markdown",
   "id": "cd3369e3",
   "metadata": {},
   "source": [
    "# Azure AI Foundry Local\n",
    "\n",
    "https://github.com/microsoft/Foundry-Local/tree/main"
   ]
  },
  {
   "cell_type": "code",
   "execution_count": 2,
   "metadata": {
    "polyglot_notebook": {
     "kernelName": "pwsh"
    },
    "vscode": {
     "languageId": "polyglot-notebook"
    }
   },
   "outputs": [
    {
     "name": "stdout",
     "output_type": "stream",
     "text": [
      "\n",
      "   - \n",
      "                                                                                                                        \n",
      "\n",
      "   - \n",
      "   \\ \n",
      "   | \n",
      "                                                                                                                        \n",
      "Found an existing package already installed. Trying to upgrade the installed package...\n",
      "No available upgrade found.\n",
      "No newer package versions are available from the configured sources.\n"
     ]
    }
   ],
   "source": [
    "winget install Microsoft.FoundryLocal\n",
    "#foundry model run phi-3.5-mini"
   ]
  },
  {
   "cell_type": "code",
   "execution_count": null,
   "id": "d7d301cf",
   "metadata": {
    "polyglot_notebook": {
     "kernelName": "csharp"
    },
    "vscode": {
     "languageId": "polyglot-notebook"
    }
   },
   "outputs": [],
   "source": [
    "#r nuget: Microsoft.AI.Foundry.Local\n",
    "#r nuget: OpenAI"
   ]
  },
  {
   "cell_type": "code",
   "execution_count": null,
   "id": "ca4951cd",
   "metadata": {
    "polyglot_notebook": {
     "kernelName": "csharp"
    },
    "vscode": {
     "languageId": "polyglot-notebook"
    }
   },
   "outputs": [],
   "source": [
    "using Microsoft.AI.Foundry.Local;\n",
    "using OpenAI;\n",
    "using OpenAI.Chat;\n",
    "using System.ClientModel;\n",
    "using System.Diagnostics.Metrics;\n",
    "\n",
    "var alias = \"phi-3.5-mini\";\n",
    "\n",
    "var manager = await FoundryManager.StartModelAsync(aliasOrModelId: alias);\n",
    "\n",
    "var model = await manager.GetModelInfoAsync(aliasOrModelId: alias);\n",
    "ApiKeyCredential key = new ApiKeyCredential(manager.ApiKey);\n",
    "OpenAIClient client = new OpenAIClient(key, new OpenAIClientOptions\n",
    "{\n",
    "    Endpoint = manager.Endpoint\n",
    "});\n",
    "\n",
    "var chatClient = client.GetChatClient(model?.ModelId);\n",
    "\n",
    "var completionUpdates = chatClient.CompleteChatStreaming(\"Why is the sky blue'\");\n",
    "\n",
    "Console.Write($\"[ASSISTANT]: \");\n",
    "foreach (var completionUpdate in completionUpdates)\n",
    "{\n",
    "    if (completionUpdate.ContentUpdate.Count > 0)\n",
    "    {\n",
    "        Console.Write(completionUpdate.ContentUpdate[0].Text);\n",
    "    }\n",
    "}"
   ]
  }
 ],
 "metadata": {
  "kernelspec": {
   "display_name": ".NET (C#)",
   "language": "C#",
   "name": ".net-csharp"
  },
  "language_info": {
   "name": "python"
  },
  "polyglot_notebook": {
   "kernelInfo": {
    "defaultKernelName": "csharp",
    "items": [
     {
      "aliases": [],
      "name": "csharp"
     }
    ]
   }
  }
 },
 "nbformat": 4,
 "nbformat_minor": 5
}
