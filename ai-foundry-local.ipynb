{
 "cells": [
  {
   "cell_type": "markdown",
   "id": "cd3369e3",
   "metadata": {},
   "source": [
    "# Azure AI Foundry Local\n",
    "\n",
    "https://github.com/microsoft/Foundry-Local/tree/main\n",
    "https://github.com/microsoft/Foundry-Local/blob/main/docs/how-to/integrate-with-inference-sdks.md\n",
    "\n",
    "There is SDK for managing Foundry Local - get endpoint, start model etc - not in Nuget yet"
   ]
  },
  {
   "cell_type": "code",
   "execution_count": 31,
   "metadata": {
    "polyglot_notebook": {
     "kernelName": "pwsh"
    },
    "vscode": {
     "languageId": "polyglot-notebook"
    }
   },
   "outputs": [
    {
     "name": "stdout",
     "output_type": "stream",
     "text": [
      "\n",
      "   - \n",
      "                                                                                                                        \n",
      "\n",
      "   - \n",
      "   \\ \n",
      "   | \n",
      "   / \n",
      "                                                                                                                        \n",
      "Found an existing package already installed. Trying to upgrade the installed package...\n",
      "No available upgrade found.\n",
      "No newer package versions are available from the configured sources.\n",
      "\n",
      "🕛 Loading model... \n",
      "🟢 Model phi-3.5-mini loaded successfully\n",
      "Models running in service:\n",
      "    Alias                          Model ID            \n",
      "🟢  phi-3.5-mini                   Phi-3.5-mini-instruct-generic-cpu\n"
     ]
    }
   ],
   "source": [
    "winget install Microsoft.FoundryLocal\n",
    "\n",
    "foundry model load phi-3.5-mini\n",
    "foundry service ps\n"
   ]
  },
  {
   "cell_type": "code",
   "execution_count": 32,
   "id": "ca4951cd",
   "metadata": {
    "polyglot_notebook": {
     "kernelName": "csharp"
    },
    "vscode": {
     "languageId": "polyglot-notebook"
    }
   },
   "outputs": [
    {
     "data": {
      "text/html": [
       "<div><div></div><div></div><div><strong>Installed Packages</strong><ul><li><span>OpenAI, 2.0.0</span></li></ul></div></div>"
      ]
     },
     "metadata": {},
     "output_type": "display_data"
    },
    {
     "name": "stdout",
     "output_type": "stream",
     "text": [
      "[ASSISTANT]:  The question of whether C# is \"better\" than Python depends on the context and specific requirements of the project or task at hand. Both C# and Python are powerful programming languages, each with their own strengths and ideal use cases. Here's a comparison to help clarify when one might be preferred over the other:\n",
      "\n",
      "1. **Performance**: C# is generally faster than Python because it is a compiled language, whereas Python is interpreted. For computationally intensive tasks, C# might be a better choice.\n",
      "\n",
      "2. **Ease of Use**: Python is often praised for its simplicity and readability, making it a good choice for beginners or for rapid prototyping. Python'dicts and lists are built-in data structures, and the language syntax is clear and concise.\n",
      "\n",
      "3. **Productivity**: Python's extensive standard library and frameworks like Django for web development can lead to faster development times compared"
     ]
    }
   ],
   "source": [
    "#r \"nuget:OpenAI, 2.0.0\"\n",
    "\n",
    "using OpenAI;\n",
    "using OpenAI.Chat;\n",
    "using System.ClientModel;\n",
    "using System.Diagnostics.Metrics;\n",
    "\n",
    "var model = \"Phi-3.5-mini-instruct-generic-cpu\";\n",
    "\n",
    "ApiKeyCredential key = new ApiKeyCredential(\"no-key-needed\");\n",
    "OpenAIClient client = new OpenAIClient(key, new OpenAIClientOptions\n",
    "{\n",
    "    Endpoint = new Uri(\"http://localhost:5273/v1\")\n",
    "});\n",
    "\n",
    "var chatClient = client.GetChatClient(model);\n",
    "\n",
    "var completionUpdates = chatClient.CompleteChatStreaming(\"Is C# better than Python?\");\n",
    "\n",
    "Console.Write($\"[ASSISTANT]: \");\n",
    "foreach (var completionUpdate in completionUpdates)\n",
    "{\n",
    "    if (completionUpdate.ContentUpdate.Count > 0)\n",
    "    {\n",
    "        Console.Write(completionUpdate.ContentUpdate[0].Text);\n",
    "    }\n",
    "}"
   ]
  },
  {
   "cell_type": "code",
   "execution_count": 33,
   "id": "6b123c9b",
   "metadata": {
    "polyglot_notebook": {
     "kernelName": "pwsh"
    },
    "vscode": {
     "languageId": "polyglot-notebook"
    }
   },
   "outputs": [
    {
     "name": "stdout",
     "output_type": "stream",
     "text": [
      "Model Phi-3.5-mini-instruct-generic-cpu was unloaded\n",
      "No models are currently loaded in the service\n"
     ]
    }
   ],
   "source": [
    "foundry model unload Phi-3.5-mini-instruct-generic-cpu\n",
    "foundry service ps\n"
   ]
  }
 ],
 "metadata": {
  "kernelspec": {
   "display_name": ".NET (C#)",
   "language": "C#",
   "name": ".net-csharp"
  },
  "language_info": {
   "name": "python"
  },
  "polyglot_notebook": {
   "kernelInfo": {
    "defaultKernelName": "csharp",
    "items": [
     {
      "aliases": [],
      "name": "csharp"
     }
    ]
   }
  }
 },
 "nbformat": 4,
 "nbformat_minor": 5
}
